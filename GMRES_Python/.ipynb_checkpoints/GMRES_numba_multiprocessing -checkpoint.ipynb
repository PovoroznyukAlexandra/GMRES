{
 "cells": [
  {
   "cell_type": "code",
   "execution_count": 61,
   "id": "543c3f27",
   "metadata": {},
   "outputs": [
    {
     "name": "stdout",
     "output_type": "stream",
     "text": [
      "env: OMP_NUM_THREADS=1\n"
     ]
    }
   ],
   "source": [
    "%env OMP_NUM_THREADS=1\n",
    "\n",
    "import numpy as np\n",
    "from scipy import linalg\n",
    "import os, time\n",
    "\n",
    "from multiprocessing import Process, Manager, Pipe, cpu_count, Barrier, Array\n",
    "import ctypes"
   ]
  },
  {
   "cell_type": "markdown",
   "id": "924ea142",
   "metadata": {},
   "source": [
    "### Input"
   ]
  },
  {
   "cell_type": "code",
   "execution_count": 82,
   "id": "564f49b4",
   "metadata": {},
   "outputs": [],
   "source": [
    "n = 10\n",
    "A = np.random.randn(n, n)\n",
    "L = np.diag(np.arange(20, 20 + n))\n",
    "A = np.linalg.inv(A) @ L @ A\n",
    "b = np.random.randn(n)\n",
    "eps = 1e-6"
   ]
  },
  {
   "cell_type": "markdown",
   "id": "a29622be",
   "metadata": {},
   "source": [
    "### Solution"
   ]
  },
  {
   "cell_type": "code",
   "execution_count": 63,
   "id": "aa3865c0",
   "metadata": {},
   "outputs": [
    {
     "data": {
      "text/plain": [
       "7.068141393421958e-16"
      ]
     },
     "execution_count": 63,
     "metadata": {},
     "output_type": "execute_result"
    }
   ],
   "source": [
    "real_x = np.linalg.solve(A, b)\n",
    "np.linalg.norm(A @ real_x - b)"
   ]
  },
  {
   "cell_type": "markdown",
   "id": "1affb427",
   "metadata": {},
   "source": [
    "### Rotation function"
   ]
  },
  {
   "cell_type": "code",
   "execution_count": 83,
   "id": "f311446b",
   "metadata": {},
   "outputs": [],
   "source": [
    "def rotation(vec, cot):\n",
    "    assert(len(vec) > len(cot))\n",
    "    res = np.copy(vec)\n",
    "    i = 0\n",
    "    for ctg in cot:\n",
    "                s = 1 / np.sqrt(ctg ** 2 + 1)\n",
    "                c = ctg * s\n",
    "                temp1 = c * vec[i] + s * vec[i + 1]\n",
    "                temp2 = -s * vec[i] + c * vec[i + 1]\n",
    "                vec[i] = temp1\n",
    "                vec[i + 1] = temp2\n",
    "                i +=1\n",
    "    return vec        "
   ]
  },
  {
   "cell_type": "markdown",
   "id": "7c0d8606",
   "metadata": {},
   "source": [
    "### GMRES"
   ]
  },
  {
   "cell_type": "code",
   "execution_count": 84,
   "id": "b83e37f4",
   "metadata": {},
   "outputs": [],
   "source": [
    "def gmres(A, b, k, eps):\n",
    "    n = b.shape[0]\n",
    "    V = np.zeros((n, k))\n",
    "    R = np.zeros((k, k)) # H = Q @ R\n",
    "    e_1_rot = np.zeros_like(b)\n",
    "    e_1_rot[0] = 1\n",
    "    m = 0 # step 0\n",
    "    beta = np.linalg.norm(b)\n",
    "    v = b / beta\n",
    "    V[:, 0] = v \n",
    "    residual = beta\n",
    "    ctg = []\n",
    "    while (residual > eps):\n",
    "        m += 1 #step m\n",
    "        if m > k - 1:\n",
    "            print(\"Number of iterations > k\")\n",
    "            return b, residual\n",
    "        v = A @ v\n",
    "        h = np.zeros(m + 1)\n",
    "        h[:m] = V[:, :m].T @ v\n",
    "        v = v - V[:, :m] @ h[:m]\n",
    "        h[m] = np.linalg.norm(v)\n",
    "        if (h[m] < 1e-14):\n",
    "            print(\"dim K = n\")\n",
    "            c = linalg.solve_triangular(R[:m - 1, : m - 1], beta * e_1_rot[:m - 1])\n",
    "            x = V[:, : m - 1 ] @ c\n",
    "            print(h[m])\n",
    "            return x, residual\n",
    "        v /= h[m]\n",
    "        V[:, m] = v\n",
    "        h = rotation(h, ctg)\n",
    "        ctg.append(h[m - 1]/ h[m])\n",
    "        h[m - 1:] = rotation(h[m - 1:], [ctg[-1]])\n",
    "        assert(h[m] < 1e-8)\n",
    "        R[:m, m - 1] = h[:m]\n",
    "        e_1_rot[m - 1:] = rotation(e_1_rot[m - 1:], [ctg[-1]])\n",
    "        residual = beta * abs(e_1_rot[m])\n",
    "        c = linalg.solve_triangular(R[:m, : m], beta * e_1_rot[:m])\n",
    "        x = V[:, : m ] @ c\n",
    "        #print(\"err = \", np.linalg.norm(x - real_x))\n",
    "    print('m =', m)\n",
    "    c = linalg.solve_triangular(R[:m, : m], beta * e_1_rot[:m])\n",
    "    x = V[:, : m ] @ c\n",
    "    return x, residual\n"
   ]
  },
  {
   "cell_type": "code",
   "execution_count": 66,
   "id": "94b4df17",
   "metadata": {
    "scrolled": false
   },
   "outputs": [
    {
     "name": "stdout",
     "output_type": "stream",
     "text": [
      "m = 7\n",
      "CPU times: user 2.07 ms, sys: 1.68 ms, total: 3.75 ms\n",
      "Wall time: 2.34 ms\n"
     ]
    }
   ],
   "source": [
    "%%time\n",
    "x, res = gmres(A, b, 100, eps)"
   ]
  },
  {
   "cell_type": "code",
   "execution_count": 67,
   "id": "aff0981a",
   "metadata": {},
   "outputs": [
    {
     "name": "stdout",
     "output_type": "stream",
     "text": [
      "[-0.04091941 -0.00139209 -0.03093751  0.00390143  0.02051261  0.03053928\n",
      " -0.01345694  0.00110238 -0.05321952  0.02255835]\n",
      "3.975226748650448e-08\n"
     ]
    }
   ],
   "source": [
    "print(x)\n",
    "print(res)"
   ]
  },
  {
   "cell_type": "code",
   "execution_count": 68,
   "id": "68a463f7",
   "metadata": {},
   "outputs": [
    {
     "data": {
      "text/plain": [
       "3.975226738801656e-08"
      ]
     },
     "execution_count": 68,
     "metadata": {},
     "output_type": "execute_result"
    }
   ],
   "source": [
    "np.linalg.norm(A @ x - b)"
   ]
  },
  {
   "cell_type": "markdown",
   "id": "51949b5a",
   "metadata": {},
   "source": [
    "### GMRES_parallel"
   ]
  },
  {
   "cell_type": "code",
   "execution_count": 69,
   "id": "a87b4351",
   "metadata": {},
   "outputs": [],
   "source": [
    "def gmres_parallel(A_shared, b_p, x_shared, V_shared, R_shared, Mem_shared, eps, num_proc, i1, i2, idx, barr, n, k):\n",
    "    A = np.frombuffer(A_shared, dtype=np.float64).reshape(n, n)\n",
    "    A_p = A[i1:i2, :] \n",
    "    V = np.frombuffer(V_shared, dtype=np.float64).reshape(n, k)\n",
    "    Mem = np.frombuffer(Mem_shared, dtype=np.float64).reshape(n, num_proc)\n",
    "    if idx == 0:\n",
    "        R = np.frombuffer(R_shared, dtype=np.float64).reshape(k, k)\n",
    "        e_1_rot = np.zeros(n)\n",
    "        e_1_rot[0] = 1\n",
    "        ctg = []\n",
    "        \n",
    "    x = np.frombuffer(x_shared, dtype=np.float64)\n",
    "    \n",
    "    Mem[0, idx] = np.sum(b_p * b_p)\n",
    "    barr.wait()\n",
    "    beta = np.sqrt(np.sum((Mem[0, :])))\n",
    "    residual = beta\n",
    "    m = 0 # step 0\n",
    "    V[i1:i2, 0] = b_p / beta\n",
    "    barr.wait()\n",
    "    \n",
    "    while residual > eps:\n",
    "        m += 1 #step m\n",
    "        if m > (k - 1):\n",
    "            print(\"Number of iterations > k\")\n",
    "            return x, residual\n",
    "        \n",
    "        v_p = A_p @ V[:, m - 1]\n",
    "        h = np.zeros(m + 1)\n",
    "        h_p = V[i1:i2, :m].T @  v_p\n",
    "        Mem[:m, idx] = h_p\n",
    "        barr.wait()\n",
    "        h[:m] = np.sum(Mem[:m, :], axis=1)\n",
    "        v_p -=  V[i1:i2, :m] @ h[:m]\n",
    "        V[i1:i2, m] = v_p\n",
    "        barr.wait()\n",
    "        \n",
    "        if idx == 0: \n",
    "            h[m] = np.linalg.norm(V[:, m])\n",
    "            if (h[m] < 1e-8):\n",
    "                print(\"dim K = n\")\n",
    "                m -= 1\n",
    "                break;\n",
    "            V[:, m] /= h[m]\n",
    "            h = rotation(h, ctg)\n",
    "            ctg.append(h[m - 1]/ h[m])\n",
    "            h[m - 1:] = rotation(h[m - 1:], [ctg[-1]])\n",
    "            assert(h[m] < 1e-8)\n",
    "            R[:m, m - 1] = h[:m]\n",
    "            e_1_rot[m - 1:] = rotation(e_1_rot[m - 1:], [ctg[-1]])\n",
    "            residual = beta * abs(e_1_rot[m])\n",
    "            Mem[0, 0] = residual\n",
    "            \n",
    "        barr.wait()\n",
    "        residual = Mem[0, 0]\n",
    "        barr.wait()\n",
    "    if idx == 0:\n",
    "        c = linalg.solve_triangular(R[:m, : m], beta * e_1_rot[:m])\n",
    "        x[:] = (V[:, : m ] @ c)[:]\n",
    "    barr.wait()\n",
    "                   \n",
    "    return x, residual"
   ]
  },
  {
   "cell_type": "markdown",
   "id": "900e76b7",
   "metadata": {},
   "source": [
    "### 100"
   ]
  },
  {
   "cell_type": "code",
   "execution_count": 70,
   "id": "06bc2507",
   "metadata": {},
   "outputs": [],
   "source": [
    "times_100 = []\n",
    "n = 100\n",
    "K = 50\n",
    "eps = 1e-6\n",
    "A_shared = Array(ctypes.c_double, n * n, lock=False)\n",
    "V_shared = Array(ctypes.c_double, n * K, lock=False)\n",
    "R_shared = Array(ctypes.c_double, K * K, lock=False)\n",
    "x_shared = Array(ctypes.c_double, n, lock=False)\n",
    "b_shared = Array(ctypes.c_double, n, lock=False)\n",
    "A = np.frombuffer(A_shared, dtype=np.float64).reshape(n,n)\n",
    "b = np.frombuffer(b_shared, dtype=np.float64)\n",
    "np.random.seed(0)\n",
    "P = np.random.randn(n, n)\n",
    "P = P @ P.T\n",
    "P += 100 * np.eye(n)\n",
    "A[:] = P[:]\n",
    "b = np.random.randn(n)"
   ]
  },
  {
   "cell_type": "code",
   "execution_count": 71,
   "id": "1389145e",
   "metadata": {
    "scrolled": true
   },
   "outputs": [
    {
     "name": "stdout",
     "output_type": "stream",
     "text": [
      "m = 16\n",
      "num_proc = 1\n",
      "t =  0.006539821624755859\n",
      "num_proc =  2\n",
      "speed =  0.05215830416106515\n",
      "num_proc =  3\n",
      "speed =  0.0498238093508192\n",
      "num_proc =  4\n",
      "speed =  0.04422167910183077\n",
      "num_proc =  5\n",
      "speed =  0.03770436369934378\n",
      "num_proc =  6\n",
      "speed =  0.029562267209270243\n",
      "num_proc =  7\n",
      "speed =  0.03243988627708843\n",
      "num_proc =  8\n",
      "speed =  0.021135670508535175\n"
     ]
    }
   ],
   "source": [
    "#gmres\n",
    "t = time.time()\n",
    "x, res = gmres(A, b, K, eps)\n",
    "t = time.time() - t\n",
    "times_100.append(t)\n",
    "print(\"num_proc = 1\")\n",
    "assert(np.linalg.norm(A.dot(x) - b) < eps)\n",
    "print(\"t = \", t)\n",
    "t_base = t\n",
    "\n",
    "#parallel gmres\n",
    "for num_proc in range(2, cpu_count() + 1, 1):\n",
    "    barr = Barrier(num_proc)\n",
    "    Mem_shared = Array(ctypes.c_double, n * num_proc, lock=False)\n",
    "    block_size = n // num_proc\n",
    "    block_size += bool(n % num_proc)\n",
    "    i_pos = [min(i * block_size, n) for i in range(num_proc + 1)]\n",
    "    proc_list = [Process(target=gmres_parallel, \n",
    "                        args=(A_shared, b[i_pos[i]:i_pos[i + 1]], x_shared, V_shared, R_shared, Mem_shared, eps, num_proc,\n",
    "                              i_pos[i], i_pos[i + 1], i, barr, n, K)) for i in range(num_proc)]\n",
    "    t = time.time()\n",
    "\n",
    "    for proc in proc_list:\n",
    "        proc.start()\n",
    "\n",
    "    for proc in proc_list:\n",
    "        proc.join()\n",
    "\n",
    "    t = time.time() - t\n",
    "    times_100.append(t)\n",
    "    x = np.frombuffer(x_shared, dtype=np.float64)\n",
    "    print(\"num_proc = \", num_proc)\n",
    "    #assert(np.linalg.norm(A.dot(x) - b) < eps)\n",
    "    print(\"speed = \", t_base / t)\n",
    "    del Mem_shared\n",
    "    \n",
    "del V_shared\n",
    "del R_shared\n",
    "del x_shared"
   ]
  },
  {
   "cell_type": "markdown",
   "id": "63b8bebe",
   "metadata": {},
   "source": [
    "### 1000"
   ]
  },
  {
   "cell_type": "code",
   "execution_count": 72,
   "id": "c5d3c78f",
   "metadata": {},
   "outputs": [],
   "source": [
    "times_1000 = []\n",
    "n = 1000\n",
    "K = 50\n",
    "eps = 1e-6\n",
    "A_shared = Array(ctypes.c_double, n * n, lock=False)\n",
    "V_shared = Array(ctypes.c_double, n * K, lock=False)\n",
    "R_shared = Array(ctypes.c_double, K * K, lock=False)\n",
    "x_shared = Array(ctypes.c_double, n, lock=False)\n",
    "A = np.frombuffer(A_shared, dtype=np.float64).reshape(n,n)\n",
    "b = np.frombuffer(b_shared, dtype=np.float64)\n",
    "np.random.seed(0)\n",
    "P = np.random.randn(n, n)\n",
    "P = P @ P.T\n",
    "P += 200 * np.eye(n)\n",
    "A[:] = P[:]\n",
    "b = np.random.randn(n)"
   ]
  },
  {
   "cell_type": "code",
   "execution_count": 73,
   "id": "62bc9368",
   "metadata": {
    "scrolled": true
   },
   "outputs": [
    {
     "name": "stdout",
     "output_type": "stream",
     "text": [
      "m = 39\n",
      "num_proc = 1\n",
      "t =  0.04431319236755371\n",
      "num_proc =  2\n",
      "speed =  0.24950297543537472\n",
      "num_proc =  3\n",
      "speed =  0.22989018981157372\n",
      "num_proc =  4\n",
      "speed =  0.22119885320254734\n",
      "num_proc =  5\n",
      "speed =  0.2196211932330445\n",
      "num_proc =  6\n",
      "speed =  0.15430666896913584\n",
      "num_proc =  7\n",
      "speed =  0.1651007546046875\n",
      "num_proc =  8\n",
      "speed =  0.1574980700739007\n"
     ]
    }
   ],
   "source": [
    "#gmres\n",
    "t = time.time()\n",
    "x, res = gmres(A, b, K, eps)\n",
    "t = time.time() - t\n",
    "times_1000.append(t)\n",
    "print(\"num_proc = 1\")\n",
    "assert(np.linalg.norm(A.dot(x) - b) < eps)\n",
    "print(\"t = \", t)\n",
    "t_base = t\n",
    "\n",
    "#parallel gmres\n",
    "for num_proc in range(2, cpu_count() + 1, 1):\n",
    "    barr = Barrier(num_proc)\n",
    "    Mem_shared = Array(ctypes.c_double, n * num_proc, lock=False)\n",
    "    block_size = n // num_proc\n",
    "    block_size += bool(n % num_proc)\n",
    "    i_pos = [min(i * block_size, n) for i in range(num_proc + 1)]\n",
    "    proc_list = [Process(target=gmres_parallel, \n",
    "                        args=(A_shared, b[i_pos[i]:i_pos[i + 1]], x_shared, V_shared, R_shared, Mem_shared, eps, num_proc,\n",
    "                              i_pos[i], i_pos[i + 1], i, barr, n, K)) for i in range(num_proc)]\n",
    "    t = time.time()\n",
    "\n",
    "    for proc in proc_list:\n",
    "        proc.start()\n",
    "\n",
    "    for proc in proc_list:\n",
    "        proc.join()\n",
    "\n",
    "    t = time.time() - t\n",
    "    times_1000.append(t)\n",
    "    x = np.frombuffer(x_shared, dtype=np.float64)\n",
    "    print(\"num_proc = \", num_proc)\n",
    "    #assert(np.linalg.norm(A.dot(x) - b) < eps)\n",
    "    print(\"speed = \", t_base / t)\n",
    "    del Mem_shared\n",
    "    \n",
    "del V_shared\n",
    "del R_shared\n",
    "del x_shared\n"
   ]
  },
  {
   "cell_type": "markdown",
   "id": "35d21cbd",
   "metadata": {},
   "source": [
    "### Numba"
   ]
  },
  {
   "cell_type": "code",
   "execution_count": 74,
   "id": "77247e02",
   "metadata": {},
   "outputs": [],
   "source": [
    "import numba"
   ]
  },
  {
   "cell_type": "code",
   "execution_count": 75,
   "id": "8069641d",
   "metadata": {},
   "outputs": [
    {
     "data": {
      "text/plain": [
       "7.207102788230771e-16"
      ]
     },
     "execution_count": 75,
     "metadata": {},
     "output_type": "execute_result"
    }
   ],
   "source": [
    "n = 10\n",
    "A = np.random.randn(n, n)\n",
    "L = np.diag(np.arange(20, 20 + n))\n",
    "A = np.linalg.inv(A) @ L @ A\n",
    "b = np.random.randn(n)\n",
    "eps = 1e-6\n",
    "\n",
    "real_x = np.linalg.solve(A, b)\n",
    "np.linalg.norm(A @ real_x - b)"
   ]
  },
  {
   "cell_type": "code",
   "execution_count": 76,
   "id": "78c92b07",
   "metadata": {},
   "outputs": [],
   "source": [
    "@numba.jit(nopython=True)\n",
    "def rotation(vec, cot):\n",
    "    assert(len(vec) > len(cot))\n",
    "    res = np.copy(vec)\n",
    "    i = 0\n",
    "    for ctg in cot:\n",
    "                s = 1 / np.sqrt(ctg ** 2 + 1)\n",
    "                c = ctg * s\n",
    "                temp1 = c * vec[i] + s * vec[i + 1]\n",
    "                temp2 = -s * vec[i] + c * vec[i + 1]\n",
    "                vec[i] = temp1\n",
    "                vec[i + 1] = temp2\n",
    "                i +=1\n",
    "    return vec  \n",
    "\n",
    "def gmres(A, b, k, eps):\n",
    "    n = b.shape[0]\n",
    "    V = np.zeros((n, k))\n",
    "    R = np.zeros((k, k)) # H = Q @ R\n",
    "    e_1_rot = np.zeros_like(b)\n",
    "    e_1_rot[0] = 1\n",
    "    m = 0 # step 0\n",
    "    beta = np.linalg.norm(b)\n",
    "    v = b / beta\n",
    "    V[:, 0] = v \n",
    "    residual = beta\n",
    "    ctg = []\n",
    "    while (residual > eps):\n",
    "        m += 1 #step m\n",
    "        if m > k - 1:\n",
    "            print(\"Number of iterations > k\")\n",
    "            return b, residual\n",
    "        v = A @ v\n",
    "        h = np.zeros(m + 1)\n",
    "        h[:m] = V[:, :m].T @ v\n",
    "        v = v - V[:, :m] @ h[:m]\n",
    "        h[m] = np.linalg.norm(v)\n",
    "        if (h[m] < 1e-14):\n",
    "            print(\"dim K = n\")\n",
    "            c = linalg.solve_triangular(R[:m - 1, : m - 1], beta * e_1_rot[:m - 1])\n",
    "            x = V[:, : m - 1 ] @ c\n",
    "            print(h[m])\n",
    "            return x, residual\n",
    "        v /= h[m]\n",
    "        V[:, m] = v\n",
    "        h = rotation(h, ctg)\n",
    "        ctg.append(h[m - 1]/ h[m])\n",
    "        h[m - 1:] = rotation(h[m - 1:], [ctg[-1]])\n",
    "        assert(h[m] < 1e-8)\n",
    "        R[:m, m - 1] = h[:m]\n",
    "        e_1_rot[m - 1:] = rotation(e_1_rot[m - 1:], [ctg[-1]])\n",
    "        residual = beta * abs(e_1_rot[m])\n",
    "        c = linalg.solve_triangular(R[:m, : m], beta * e_1_rot[:m])\n",
    "        x = V[:, : m ] @ c\n",
    "        #print(\"err = \", np.linalg.norm(x - real_x))\n",
    "    print('m =', m)\n",
    "    c = linalg.solve_triangular(R[:m, : m], beta * e_1_rot[:m])\n",
    "    x = V[:, : m ] @ c\n",
    "    return x, residual\n"
   ]
  },
  {
   "cell_type": "code",
   "execution_count": 86,
   "id": "3b6013f7",
   "metadata": {
    "scrolled": false
   },
   "outputs": [
    {
     "name": "stdout",
     "output_type": "stream",
     "text": [
      "m = 7\n",
      "CPU times: user 3.23 ms, sys: 2.09 ms, total: 5.32 ms\n",
      "Wall time: 3.65 ms\n"
     ]
    }
   ],
   "source": [
    "%%time\n",
    "x, res = gmres(A, b, 100, eps)"
   ]
  },
  {
   "cell_type": "markdown",
   "id": "395cb935",
   "metadata": {},
   "source": [
    "### Numba_parallel"
   ]
  },
  {
   "cell_type": "code",
   "execution_count": 78,
   "id": "8351b164",
   "metadata": {},
   "outputs": [],
   "source": [
    "from numba import prange"
   ]
  },
  {
   "cell_type": "code",
   "execution_count": 79,
   "id": "9f3b857a",
   "metadata": {},
   "outputs": [],
   "source": [
    "@numba.jit(nopython=True, parallel=True)\n",
    "def rotation(vec, cot):\n",
    "    assert(len(vec) > len(cot))\n",
    "    res = np.copy(vec)\n",
    "    i = 0\n",
    "    for ctg in cot:\n",
    "                s = 1 / np.sqrt(ctg ** 2 + 1)\n",
    "                c = ctg * s\n",
    "                temp1 = c * vec[i] + s * vec[i + 1]\n",
    "                temp2 = -s * vec[i] + c * vec[i + 1]\n",
    "                vec[i] = temp1\n",
    "                vec[i + 1] = temp2\n",
    "                i +=1\n",
    "    return vec  "
   ]
  },
  {
   "cell_type": "code",
   "execution_count": 80,
   "id": "c4f1c396",
   "metadata": {},
   "outputs": [],
   "source": [
    "numba.set_num_threads(1)"
   ]
  },
  {
   "cell_type": "code",
   "execution_count": 87,
   "id": "87ef00eb",
   "metadata": {},
   "outputs": [
    {
     "name": "stdout",
     "output_type": "stream",
     "text": [
      "m = 7\n",
      "CPU times: user 1.26 ms, sys: 427 µs, total: 1.69 ms\n",
      "Wall time: 1.35 ms\n"
     ]
    }
   ],
   "source": [
    "%%time\n",
    "x, res = gmres(A, b, 100, eps)"
   ]
  }
 ],
 "metadata": {
  "kernelspec": {
   "display_name": "Python 3",
   "language": "python",
   "name": "python3"
  },
  "language_info": {
   "codemirror_mode": {
    "name": "ipython",
    "version": 3
   },
   "file_extension": ".py",
   "mimetype": "text/x-python",
   "name": "python",
   "nbconvert_exporter": "python",
   "pygments_lexer": "ipython3",
   "version": "3.8.8"
  }
 },
 "nbformat": 4,
 "nbformat_minor": 5
}
