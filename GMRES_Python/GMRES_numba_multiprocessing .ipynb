{
 "cells": [
  {
   "cell_type": "code",
   "execution_count": 76,
   "id": "543c3f27",
   "metadata": {},
   "outputs": [
    {
     "name": "stdout",
     "output_type": "stream",
     "text": [
      "env: OMP_NUM_THREADS=1\n"
     ]
    }
   ],
   "source": [
    "%env OMP_NUM_THREADS=1\n",
    "\n",
    "import numpy as np\n",
    "from scipy import linalg\n",
    "import os, time\n",
    "\n",
    "from multiprocessing import Process, Manager, Pipe, cpu_count, Barrier, Array\n",
    "import ctypes"
   ]
  },
  {
   "cell_type": "markdown",
   "id": "924ea142",
   "metadata": {},
   "source": [
    "### Input"
   ]
  },
  {
   "cell_type": "code",
   "execution_count": 77,
   "id": "564f49b4",
   "metadata": {},
   "outputs": [],
   "source": [
    "n = 10\n",
    "A = np.random.randn(n, n)\n",
    "L = np.diag(np.arange(10, 10 + n))\n",
    "A = np.linalg.inv(A) @ L @ A\n",
    "b = np.random.randn(n)\n",
    "eps = 1e-6"
   ]
  },
  {
   "cell_type": "markdown",
   "id": "a29622be",
   "metadata": {},
   "source": [
    "### Solution"
   ]
  },
  {
   "cell_type": "code",
   "execution_count": 78,
   "id": "aa3865c0",
   "metadata": {},
   "outputs": [
    {
     "data": {
      "text/plain": [
       "5.335734195300991e-16"
      ]
     },
     "execution_count": 78,
     "metadata": {},
     "output_type": "execute_result"
    }
   ],
   "source": [
    "real_x = np.linalg.solve(A, b)\n",
    "np.linalg.norm(A @ real_x - b)"
   ]
  },
  {
   "cell_type": "markdown",
   "id": "1affb427",
   "metadata": {},
   "source": [
    "### Rotation function"
   ]
  },
  {
   "cell_type": "code",
   "execution_count": 79,
   "id": "f311446b",
   "metadata": {},
   "outputs": [],
   "source": [
    "def rotation(vec, cot):\n",
    "    assert(len(vec) > len(cot))\n",
    "    res = np.copy(vec)\n",
    "    i = 0\n",
    "    for ctg in cot:\n",
    "                s = 1 / np.sqrt(ctg ** 2 + 1)\n",
    "                c = ctg * s\n",
    "                temp1 = c * vec[i] + s * vec[i + 1]\n",
    "                temp2 = -s * vec[i] + c * vec[i + 1]\n",
    "                vec[i] = temp1\n",
    "                vec[i + 1] = temp2\n",
    "                i +=1\n",
    "    return vec        "
   ]
  },
  {
   "cell_type": "markdown",
   "id": "7c0d8606",
   "metadata": {},
   "source": [
    "### GMRES"
   ]
  },
  {
   "cell_type": "code",
   "execution_count": 91,
   "id": "b83e37f4",
   "metadata": {},
   "outputs": [],
   "source": [
    "def gmres(A, b, k, eps):\n",
    "    n = b.shape[0]\n",
    "    V = np.zeros((n, k))\n",
    "    R = np.zeros((k, k)) # H = Q @ R\n",
    "    e_1_rot = np.zeros_like(b)\n",
    "    e_1_rot[0] = 1 \n",
    "    beta = np.linalg.norm(b)\n",
    "    v = b / beta\n",
    "    V[:, 0] = v \n",
    "    residual = beta\n",
    "    ctg = []\n",
    "    m = 0 \n",
    "    while (residual > eps):\n",
    "        m += 1\n",
    "        if m > k - 1:\n",
    "            print(\"Number of iterations > k\")\n",
    "            return b, residual\n",
    "        v = A @ v\n",
    "        h = np.zeros(m + 1)\n",
    "        h[:m] = V[:, :m].T @ v\n",
    "        v = v - V[:, :m] @ h[:m]\n",
    "        h[m] = np.linalg.norm(v)\n",
    "        if (h[m] < 1e-14):\n",
    "            print(\"dim K = n\")\n",
    "            c = linalg.solve_triangular(R[:m - 1, : m - 1], beta * e_1_rot[:m - 1])\n",
    "            x = V[:, : m - 1 ] @ c\n",
    "            print(h[m])\n",
    "            return x, residual\n",
    "        v /= h[m]\n",
    "        V[:, m] = v\n",
    "        h = rotation(h, ctg)\n",
    "        ctg.append(h[m - 1]/ h[m])\n",
    "        h[m - 1:] = rotation(h[m - 1:], [ctg[-1]])\n",
    "        assert(h[m] < 1e-8)\n",
    "        R[:m, m - 1] = h[:m]\n",
    "        e_1_rot[m - 1:] = rotation(e_1_rot[m - 1:], [ctg[-1]])\n",
    "        residual = beta * abs(e_1_rot[m])\n",
    "        c = linalg.solve_triangular(R[:m, : m], beta * e_1_rot[:m])\n",
    "        x = V[:, : m ] @ c\n",
    "    print('m =', m)\n",
    "    c = linalg.solve_triangular(R[:m, : m], beta * e_1_rot[:m])\n",
    "    x = V[:, : m ] @ c\n",
    "    return x, residual"
   ]
  },
  {
   "cell_type": "code",
   "execution_count": 81,
   "id": "94b4df17",
   "metadata": {
    "scrolled": false
   },
   "outputs": [
    {
     "name": "stdout",
     "output_type": "stream",
     "text": [
      "err =  0.03204097783526686\n",
      "err =  0.005304199069507562\n",
      "err =  0.00020236611673070544\n",
      "err =  1.1787675818062815e-05\n",
      "err =  1.4032524372785912e-06\n",
      "err =  8.35764829888994e-08\n",
      "err =  9.860469028466624e-09\n",
      "m = 7\n",
      "CPU times: user 7.41 ms, sys: 17.5 ms, total: 24.9 ms\n",
      "Wall time: 52.7 ms\n"
     ]
    }
   ],
   "source": [
    "%%time\n",
    "x, res = gmres(A, b, 100, eps)"
   ]
  },
  {
   "cell_type": "code",
   "execution_count": 82,
   "id": "aff0981a",
   "metadata": {},
   "outputs": [
    {
     "name": "stdout",
     "output_type": "stream",
     "text": [
      "[ 0.00257672 -0.00835191  0.11098437 -0.02697429  0.04121384  0.04838488\n",
      "  0.00336195 -0.02227793  0.01073204  0.06092264]\n",
      "2.166958227274288e-07\n"
     ]
    }
   ],
   "source": [
    "print(x)\n",
    "print(res)"
   ]
  },
  {
   "cell_type": "code",
   "execution_count": 83,
   "id": "68a463f7",
   "metadata": {},
   "outputs": [
    {
     "data": {
      "text/plain": [
       "2.1669582256856098e-07"
      ]
     },
     "execution_count": 83,
     "metadata": {},
     "output_type": "execute_result"
    }
   ],
   "source": [
    "np.linalg.norm(A @ x - b)"
   ]
  },
  {
   "cell_type": "markdown",
   "id": "51949b5a",
   "metadata": {},
   "source": [
    "### GMRES_parallel"
   ]
  },
  {
   "cell_type": "code",
   "execution_count": 92,
   "id": "a87b4351",
   "metadata": {},
   "outputs": [],
   "source": [
    "def gmres_parallel(A_shared, b_p, x_shared, V_shared, R_shared, Mem_shared, eps, num_proc, i1, i2, idx, barr, n, k):\n",
    "    A = np.frombuffer(A_shared, dtype=np.float64).reshape(n, n)\n",
    "    A_p = A[i1:i2, :] \n",
    "    V = np.frombuffer(V_shared, dtype=np.float64).reshape(n, k)\n",
    "    Mem = np.frombuffer(Mem_shared, dtype=np.float64).reshape(n, num_proc)\n",
    "    if idx == 0:\n",
    "        R = np.frombuffer(R_shared, dtype=np.float64).reshape(k, k)\n",
    "        e_1_rot = np.zeros(n)\n",
    "        e_1_rot[0] = 1\n",
    "        ctg = []\n",
    "        \n",
    "    x = np.frombuffer(x_shared, dtype=np.float64)\n",
    "    \n",
    "    Mem[0, idx] = np.sum(b_p * b_p)\n",
    "    barr.wait()\n",
    "    beta = np.sqrt(np.sum((Mem[0, :])))\n",
    "    residual = beta\n",
    "    m = 0 # step 0\n",
    "    V[i1:i2, 0] = b_p / beta\n",
    "    barr.wait()\n",
    "    \n",
    "    while residual > eps:\n",
    "        m += 1\n",
    "        if m > (k - 1):\n",
    "            print(\"Number of iterations > k\")\n",
    "            return x, residual\n",
    "        v_p = A_p @ V[:, m - 1]\n",
    "        h = np.zeros(m + 1)\n",
    "        h_p = V[i1:i2, :m].T @  v_p\n",
    "        Mem[:m, idx] = h_p\n",
    "        barr.wait()\n",
    "        h[:m] = np.sum(Mem[:m, :], axis=1)\n",
    "        v_p -=  V[i1:i2, :m] @ h[:m]\n",
    "        V[i1:i2, m] = v_p\n",
    "        barr.wait()\n",
    "        if idx == 0: \n",
    "            h[m] = np.linalg.norm(V[:, m])\n",
    "            if (h[m] < 1e-8):\n",
    "                print(\"dim K = n\")\n",
    "                m -= 1\n",
    "                break;\n",
    "            V[:, m] /= h[m]\n",
    "            h = rotation(h, ctg)\n",
    "            ctg.append(h[m - 1]/ h[m])\n",
    "            h[m - 1:] = rotation(h[m - 1:], [ctg[-1]])\n",
    "            assert(h[m] < 1e-8)\n",
    "            R[:m, m - 1] = h[:m]\n",
    "            e_1_rot[m - 1:] = rotation(e_1_rot[m - 1:], [ctg[-1]])\n",
    "            residual = beta * abs(e_1_rot[m])\n",
    "            Mem[0, 0] = residual\n",
    "            \n",
    "        barr.wait()\n",
    "        residual = Mem[0, 0]\n",
    "        barr.wait()\n",
    "    if idx == 0:\n",
    "        c = linalg.solve_triangular(R[:m, : m], beta * e_1_rot[:m])\n",
    "        x[:] = (V[:, : m ] @ c)[:]\n",
    "    barr.wait()\n",
    "                   \n",
    "    return x, residual"
   ]
  },
  {
   "cell_type": "markdown",
   "id": "900e76b7",
   "metadata": {},
   "source": [
    "### 100"
   ]
  },
  {
   "cell_type": "code",
   "execution_count": 96,
   "id": "06bc2507",
   "metadata": {},
   "outputs": [],
   "source": [
    "times_100 = []\n",
    "n = 100\n",
    "K = 50\n",
    "eps = 1e-6\n",
    "A_shared = Array(ctypes.c_double, n * n, lock=False)\n",
    "V_shared = Array(ctypes.c_double, n * K, lock=False)\n",
    "R_shared = Array(ctypes.c_double, K * K, lock=False)\n",
    "x_shared = Array(ctypes.c_double, n, lock=False)\n",
    "b_shared = Array(ctypes.c_double, n, lock=False)\n",
    "A = np.frombuffer(A_shared, dtype=np.float64).reshape(n,n)\n",
    "b = np.frombuffer(b_shared, dtype=np.float64)\n",
    "np.random.seed(0)\n",
    "P = np.random.randn(n, n)\n",
    "P = P @ P.T\n",
    "P += 100 * np.eye(n)\n",
    "A[:] = P[:]\n",
    "b = np.random.randn(n)"
   ]
  },
  {
   "cell_type": "code",
   "execution_count": 98,
   "id": "1389145e",
   "metadata": {
    "scrolled": true
   },
   "outputs": [
    {
     "name": "stdout",
     "output_type": "stream",
     "text": [
      "m = 16\n",
      "num_proc = 1\n",
      "t =  0.010756731033325195\n",
      "num_proc =  2\n",
      "speed =  0.04547896709914207\n",
      "num_proc =  3\n",
      "speed =  0.1417463100152689\n",
      "num_proc =  4\n",
      "speed =  0.1222368224982728\n",
      "num_proc =  5\n",
      "speed =  0.09565191581562885\n",
      "num_proc =  6\n",
      "speed =  0.08017251030210627\n",
      "num_proc =  7\n",
      "speed =  0.06753809374826915\n",
      "num_proc =  8\n",
      "speed =  0.06232981461449513\n"
     ]
    }
   ],
   "source": [
    "#gmres\n",
    "t = time.time()\n",
    "x, res = gmres(A, b, K, eps)\n",
    "t = time.time() - t\n",
    "times_100.append(t)\n",
    "print(\"num_proc = 1\")\n",
    "assert(np.linalg.norm(A.dot(x) - b) < eps)\n",
    "print(\"t = \", t)\n",
    "t_base = t\n",
    "\n",
    "#parallel gmres\n",
    "for num_proc in range(2, cpu_count() + 1, 1):\n",
    "    barr = Barrier(num_proc)\n",
    "    Mem_shared = Array(ctypes.c_double, n * num_proc, lock=False)\n",
    "    block_size = n // num_proc\n",
    "    block_size += bool(n % num_proc)\n",
    "    i_pos = [min(i * block_size, n) for i in range(num_proc + 1)]\n",
    "    proc_list = [Process(target=gmres_parallel, \n",
    "                        args=(A_shared, b[i_pos[i]:i_pos[i + 1]], x_shared, V_shared, R_shared, Mem_shared, eps, num_proc,\n",
    "                              i_pos[i], i_pos[i + 1], i, barr, n, K)) for i in range(num_proc)]\n",
    "    t = time.time()\n",
    "\n",
    "    for proc in proc_list:\n",
    "        proc.start()\n",
    "\n",
    "    for proc in proc_list:\n",
    "        proc.join()\n",
    "\n",
    "    t = time.time() - t\n",
    "    times_100.append(t)\n",
    "    x = np.frombuffer(x_shared, dtype=np.float64)\n",
    "    print(\"num_proc = \", num_proc)\n",
    "    #assert(np.linalg.norm(A.dot(x) - b) < eps)\n",
    "    print(\"speed = \", t_base / t)\n",
    "    del Mem_shared\n",
    "    \n",
    "del V_shared\n",
    "del R_shared\n",
    "del x_shared"
   ]
  },
  {
   "cell_type": "markdown",
   "id": "63b8bebe",
   "metadata": {},
   "source": [
    "### 1000"
   ]
  },
  {
   "cell_type": "code",
   "execution_count": 99,
   "id": "c5d3c78f",
   "metadata": {},
   "outputs": [],
   "source": [
    "times_1000 = []\n",
    "n = 1000\n",
    "K = 50\n",
    "eps = 1e-6\n",
    "A_shared = Array(ctypes.c_double, n * n, lock=False)\n",
    "V_shared = Array(ctypes.c_double, n * K, lock=False)\n",
    "R_shared = Array(ctypes.c_double, K * K, lock=False)\n",
    "x_shared = Array(ctypes.c_double, n, lock=False)\n",
    "A = np.frombuffer(A_shared, dtype=np.float64).reshape(n,n)\n",
    "b = np.frombuffer(b_shared, dtype=np.float64)\n",
    "np.random.seed(0)\n",
    "P = np.random.randn(n, n)\n",
    "P = P @ P.T\n",
    "P += 200 * np.eye(n)\n",
    "A[:] = P[:]\n",
    "b = np.random.randn(n)"
   ]
  },
  {
   "cell_type": "code",
   "execution_count": 101,
   "id": "62bc9368",
   "metadata": {
    "scrolled": true
   },
   "outputs": [
    {
     "name": "stdout",
     "output_type": "stream",
     "text": [
      "m = 39\n",
      "num_proc = 1\n",
      "t =  0.04167819023132324\n",
      "num_proc =  2\n",
      "speed =  0.34653506563532055\n",
      "num_proc =  3\n",
      "speed =  0.3994757781632126\n",
      "num_proc =  4\n",
      "speed =  0.43175043036486543\n",
      "num_proc =  5\n",
      "speed =  0.3531121605953242\n",
      "num_proc =  6\n",
      "speed =  0.27720936870649054\n",
      "num_proc =  7\n",
      "speed =  0.1915825166747401\n",
      "num_proc =  8\n",
      "speed =  0.18997912317327767\n"
     ]
    }
   ],
   "source": [
    "#gmres\n",
    "t = time.time()\n",
    "x, res = gmres(A, b, K, eps)\n",
    "t = time.time() - t\n",
    "times_1000.append(t)\n",
    "print(\"num_proc = 1\")\n",
    "assert(np.linalg.norm(A.dot(x) - b) < eps)\n",
    "print(\"t = \", t)\n",
    "t_base = t\n",
    "\n",
    "#parallel gmres\n",
    "for num_proc in range(2, cpu_count() + 1, 1):\n",
    "    barr = Barrier(num_proc)\n",
    "    Mem_shared = Array(ctypes.c_double, n * num_proc, lock=False)\n",
    "    block_size = n // num_proc\n",
    "    block_size += bool(n % num_proc)\n",
    "    i_pos = [min(i * block_size, n) for i in range(num_proc + 1)]\n",
    "    proc_list = [Process(target=gmres_parallel, \n",
    "                        args=(A_shared, b[i_pos[i]:i_pos[i + 1]], x_shared, V_shared, R_shared, Mem_shared, eps, num_proc,\n",
    "                              i_pos[i], i_pos[i + 1], i, barr, n, K)) for i in range(num_proc)]\n",
    "    t = time.time()\n",
    "\n",
    "    for proc in proc_list:\n",
    "        proc.start()\n",
    "\n",
    "    for proc in proc_list:\n",
    "        proc.join()\n",
    "\n",
    "    t = time.time() - t\n",
    "    times_1000.append(t)\n",
    "    x = np.frombuffer(x_shared, dtype=np.float64)\n",
    "    print(\"num_proc = \", num_proc)\n",
    "    #assert(np.linalg.norm(A.dot(x) - b) < eps)\n",
    "    print(\"speed = \", t_base / t)\n",
    "    del Mem_shared\n",
    "    \n",
    "del V_shared\n",
    "del R_shared\n",
    "del x_shared\n"
   ]
  },
  {
   "cell_type": "markdown",
   "id": "35d21cbd",
   "metadata": {},
   "source": [
    "### Numba"
   ]
  },
  {
   "cell_type": "code",
   "execution_count": 104,
   "id": "77247e02",
   "metadata": {},
   "outputs": [],
   "source": [
    "import numba"
   ]
  },
  {
   "cell_type": "code",
   "execution_count": 138,
   "id": "8069641d",
   "metadata": {},
   "outputs": [
    {
     "data": {
      "text/plain": [
       "7.065416064076988e-16"
      ]
     },
     "execution_count": 138,
     "metadata": {},
     "output_type": "execute_result"
    }
   ],
   "source": [
    "n = 10\n",
    "A = np.random.randn(n, n)\n",
    "L = np.diag(np.arange(20, 20 + n))\n",
    "A = np.linalg.inv(A) @ L @ A\n",
    "b = np.random.randn(n)\n",
    "eps = 1e-6\n",
    "\n",
    "real_x = np.linalg.solve(A, b)\n",
    "np.linalg.norm(A @ real_x - b)"
   ]
  },
  {
   "cell_type": "code",
   "execution_count": 152,
   "id": "78c92b07",
   "metadata": {},
   "outputs": [],
   "source": [
    "@numba.jit(nopython=True)\n",
    "def rotation(vec, cot):\n",
    "    assert(len(vec) > len(cot))\n",
    "    res = np.copy(vec)\n",
    "    i = 0\n",
    "    for ctg in cot:\n",
    "                s = 1 / np.sqrt(ctg ** 2 + 1)\n",
    "                c = ctg * s\n",
    "                temp1 = c * vec[i] + s * vec[i + 1]\n",
    "                temp2 = -s * vec[i] + c * vec[i + 1]\n",
    "                vec[i] = temp1\n",
    "                vec[i + 1] = temp2\n",
    "                i +=1\n",
    "    return vec  \n",
    "\n",
    "def gmres(A, b, k, eps):\n",
    "    n = b.shape[0]\n",
    "    V = np.zeros((n, k))\n",
    "    R = np.zeros((k, k)) # H = Q @ R\n",
    "    e_1_rot = np.zeros_like(b)\n",
    "    e_1_rot[0] = 1\n",
    "    m = 0 # step 0\n",
    "    beta = np.linalg.norm(b)\n",
    "    v = b / beta\n",
    "    V[:, 0] = v \n",
    "    residual = beta\n",
    "    ctg = []\n",
    "    while (residual > eps):\n",
    "        m += 1 #step m\n",
    "        if m > k - 1:\n",
    "            print(\"Number of iterations > k\")\n",
    "            return b, residual\n",
    "        v = A @ v\n",
    "        h = np.zeros(m + 1)\n",
    "        h[:m] = V[:, :m].T @ v\n",
    "        v = v - V[:, :m] @ h[:m]\n",
    "        h[m] = np.linalg.norm(v)\n",
    "        if (h[m] < 1e-14):\n",
    "            print(\"dim K = n\")\n",
    "            c = linalg.solve_triangular(R[:m - 1, : m - 1], beta * e_1_rot[:m - 1])\n",
    "            x = V[:, : m - 1 ] @ c\n",
    "            print(h[m])\n",
    "            return x, residual\n",
    "        v /= h[m]\n",
    "        V[:, m] = v\n",
    "        h = rotation(h, ctg)\n",
    "        ctg.append(h[m - 1]/ h[m])\n",
    "        h[m - 1:] = rotation(h[m - 1:], [ctg[-1]])\n",
    "        assert(h[m] < 1e-8)\n",
    "        R[:m, m - 1] = h[:m]\n",
    "        e_1_rot[m - 1:] = rotation(e_1_rot[m - 1:], [ctg[-1]])\n",
    "        residual = beta * abs(e_1_rot[m])\n",
    "        c = linalg.solve_triangular(R[:m, : m], beta * e_1_rot[:m])\n",
    "        x = V[:, : m ] @ c\n",
    "        #print(\"err = \", np.linalg.norm(x - real_x))\n",
    "    print('m =', m)\n",
    "    c = linalg.solve_triangular(R[:m, : m], beta * e_1_rot[:m])\n",
    "    x = V[:, : m ] @ c\n",
    "    return x, residual\n"
   ]
  },
  {
   "cell_type": "code",
   "execution_count": 156,
   "id": "3b6013f7",
   "metadata": {
    "scrolled": true
   },
   "outputs": [
    {
     "name": "stdout",
     "output_type": "stream",
     "text": [
      "m = 6\n",
      "CPU times: user 2.81 ms, sys: 2.01 ms, total: 4.82 ms\n",
      "Wall time: 3.23 ms\n"
     ]
    }
   ],
   "source": [
    "%%time\n",
    "x, res = gmres(A, b, 100, eps)"
   ]
  }
 ],
 "metadata": {
  "kernelspec": {
   "display_name": "Python 3",
   "language": "python",
   "name": "python3"
  },
  "language_info": {
   "codemirror_mode": {
    "name": "ipython",
    "version": 3
   },
   "file_extension": ".py",
   "mimetype": "text/x-python",
   "name": "python",
   "nbconvert_exporter": "python",
   "pygments_lexer": "ipython3",
   "version": "3.8.8"
  }
 },
 "nbformat": 4,
 "nbformat_minor": 5
}
